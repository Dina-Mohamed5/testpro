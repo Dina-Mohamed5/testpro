{
 "cells": [
  {
   "cell_type": "markdown",
   "id": "3ff5550b-12b2-46c9-8d90-1a95686eaade",
   "metadata": {},
   "source": [
    "# Data Science Tools and Ecosystems"
   ]
  },
  {
   "cell_type": "markdown",
   "id": "bfb0354a-92ee-4885-bc67-b95601b7230b",
   "metadata": {},
   "source": [
    "###### In this notebook, Data Science Tools and Ecosystem are summarized.\n",
    "\r\n"
   ]
  },
  {
   "cell_type": "markdown",
   "id": "6ba777ae-29e5-4812-a568-78d590ae27c9",
   "metadata": {},
   "source": [
    "**Objectives:**\n",
    "\n",
    "* Python\n",
    "* Scala\n",
    "* Julia\n",
    "* Java\n",
    "* JavaScript\n",
    "* SQL\n",
    "* Ruby\n",
    "* Go\n",
    "* Visual Basic\n"
   ]
  },
  {
   "cell_type": "markdown",
   "id": "370040df-73d2-46c2-a360-5860c03df5e2",
   "metadata": {},
   "source": [
    "### Some of the popular languages that Data Scientists use are:\r\n"
   ]
  },
  {
   "cell_type": "markdown",
   "id": "b0b6bead-669b-4089-940e-32fed18cef8a",
   "metadata": {},
   "source": [
    "```\n",
    "1. Python \n",
    "2. R\n",
    "3. SQL\n",
    "```"
   ]
  },
  {
   "cell_type": "markdown",
   "id": "45a5598b-edd5-47b7-8dca-ce5a7fb55bfe",
   "metadata": {},
   "source": [
    "### Some of the commonly used libraries used by Data Scientists include:\r",
    "```\n",
    "1. Numpy\n",
    "2. Matplolib\n",
    "3. Pandas\n",
    "4. Scikit-learn\n",
    "```\n"
   ]
  },
  {
   "cell_type": "markdown",
   "id": "5d7dd5bb-ef61-48b5-beee-17ce013786ff",
   "metadata": {},
   "source": [
    "| Data Science Tools |\n",
    "|------------------------------|\n",
    "| Hadoop Distributed File System(HDFS) |\n",
    "| Apache Spark SQL |\n",
    "| Relational DataBases |\n",
    "-----------------------------------------\n"
   ]
  },
  {
   "cell_type": "markdown",
   "id": "1aeef381-7db0-45cb-9cf6-0a3b64a1290f",
   "metadata": {},
   "source": [
    "### Below are a few examples of evaluating arithmetic expressions in Python.\r",
    "\r\n"
   ]
  },
  {
   "cell_type": "code",
   "execution_count": 3,
   "id": "079feee5-e704-482d-ad0b-61f210115c31",
   "metadata": {},
   "outputs": [
    {
     "name": "stdout",
     "output_type": "stream",
     "text": [
      "17\n"
     ]
    }
   ],
   "source": [
    "#  This a simple arithmetic expression to mutiply then add integers.\n",
    "print((3*4)+5)"
   ]
  },
  {
   "cell_type": "code",
   "execution_count": 7,
   "id": "6fa84f67-7971-4d1a-8fd1-f8f2a5241dd4",
   "metadata": {},
   "outputs": [
    {
     "name": "stdout",
     "output_type": "stream",
     "text": [
      "3.3333333333333335\n"
     ]
    }
   ],
   "source": [
    "#  This will convert 200 minutes to hours by diving by 60\n",
    "minutes = 200\n",
    "hours = minutes/60\n",
    "print(hours)"
   ]
  },
  {
   "cell_type": "markdown",
   "id": "f2a5d8d2-cc26-4c15-b9fa-dfaa77d28ac2",
   "metadata": {},
   "source": [
    "## Author\n",
    "Dina"
   ]
  },
  {
   "cell_type": "code",
   "execution_count": null,
   "id": "b6ebfd37-6e1a-46df-9ac7-063bae46e312",
   "metadata": {},
   "outputs": [],
   "source": []
  }
 ],
 "metadata": {
  "kernelspec": {
   "display_name": "Python 3 (ipykernel)",
   "language": "python",
   "name": "python3"
  },
  "language_info": {
   "codemirror_mode": {
    "name": "ipython",
    "version": 3
   },
   "file_extension": ".py",
   "mimetype": "text/x-python",
   "name": "python",
   "nbconvert_exporter": "python",
   "pygments_lexer": "ipython3",
   "version": "3.12.4"
  }
 },
 "nbformat": 4,
 "nbformat_minor": 5
}
